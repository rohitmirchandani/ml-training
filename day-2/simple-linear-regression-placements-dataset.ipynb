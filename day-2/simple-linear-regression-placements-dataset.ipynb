{
 "cells": [
  {
   "cell_type": "markdown",
   "id": "3cdb4805",
   "metadata": {
    "papermill": {
     "duration": 0.030007,
     "end_time": "2022-06-21T19:44:46.820364",
     "exception": false,
     "start_time": "2022-06-21T19:44:46.790357",
     "status": "completed"
    },
    "tags": []
   },
   "source": [
    "Use this dataset to understand simple linear regression. Contain two column Cgpa and Package. Build the model to predict package based on CGPA."
   ]
  },
  {
   "cell_type": "code",
   "execution_count": 1,
   "id": "473d0530",
   "metadata": {
    "execution": {
     "iopub.execute_input": "2022-06-21T19:44:46.879230Z",
     "iopub.status.busy": "2022-06-21T19:44:46.877942Z",
     "iopub.status.idle": "2022-06-21T19:44:46.886205Z",
     "shell.execute_reply": "2022-06-21T19:44:46.886676Z",
     "shell.execute_reply.started": "2022-06-21T19:40:00.262550Z"
    },
    "papermill": {
     "duration": 0.039103,
     "end_time": "2022-06-21T19:44:46.886996",
     "exception": false,
     "start_time": "2022-06-21T19:44:46.847893",
     "status": "completed"
    },
    "tags": []
   },
   "outputs": [],
   "source": [
    "import numpy as np\n",
    "import pandas as pd"
   ]
  },
  {
   "cell_type": "code",
   "execution_count": 2,
   "id": "276b2813",
   "metadata": {
    "execution": {
     "iopub.execute_input": "2022-06-21T19:44:46.945796Z",
     "iopub.status.busy": "2022-06-21T19:44:46.944839Z",
     "iopub.status.idle": "2022-06-21T19:44:46.961010Z",
     "shell.execute_reply": "2022-06-21T19:44:46.961577Z",
     "shell.execute_reply.started": "2022-06-21T19:40:05.881715Z"
    },
    "papermill": {
     "duration": 0.046595,
     "end_time": "2022-06-21T19:44:46.961753",
     "exception": false,
     "start_time": "2022-06-21T19:44:46.915158",
     "status": "completed"
    },
    "tags": []
   },
   "outputs": [],
   "source": [
    "df = pd.read_csv('../input/simple-linear-regression-placement-data/placement.csv')"
   ]
  },
  {
   "cell_type": "code",
   "execution_count": 3,
   "id": "d3572cf8",
   "metadata": {
    "execution": {
     "iopub.execute_input": "2022-06-21T19:44:47.024269Z",
     "iopub.status.busy": "2022-06-21T19:44:47.023417Z",
     "iopub.status.idle": "2022-06-21T19:44:47.027576Z",
     "shell.execute_reply": "2022-06-21T19:44:47.028073Z",
     "shell.execute_reply.started": "2022-06-21T19:40:12.101924Z"
    },
    "papermill": {
     "duration": 0.039243,
     "end_time": "2022-06-21T19:44:47.028251",
     "exception": false,
     "start_time": "2022-06-21T19:44:46.989008",
     "status": "completed"
    },
    "tags": []
   },
   "outputs": [
    {
     "data": {
      "text/plain": [
       "(1000, 3)"
      ]
     },
     "execution_count": 3,
     "metadata": {},
     "output_type": "execute_result"
    }
   ],
   "source": [
    "df.shape"
   ]
  },
  {
   "cell_type": "code",
   "execution_count": 4,
   "id": "353d9a6c",
   "metadata": {
    "execution": {
     "iopub.execute_input": "2022-06-21T19:44:47.088691Z",
     "iopub.status.busy": "2022-06-21T19:44:47.087712Z",
     "iopub.status.idle": "2022-06-21T19:44:47.115973Z",
     "shell.execute_reply": "2022-06-21T19:44:47.116545Z",
     "shell.execute_reply.started": "2022-06-21T19:40:19.446992Z"
    },
    "papermill": {
     "duration": 0.060654,
     "end_time": "2022-06-21T19:44:47.116893",
     "exception": false,
     "start_time": "2022-06-21T19:44:47.056239",
     "status": "completed"
    },
    "tags": []
   },
   "outputs": [
    {
     "name": "stdout",
     "output_type": "stream",
     "text": [
      "<class 'pandas.core.frame.DataFrame'>\n",
      "RangeIndex: 1000 entries, 0 to 999\n",
      "Data columns (total 3 columns):\n",
      " #   Column                Non-Null Count  Dtype  \n",
      "---  ------                --------------  -----  \n",
      " 0   cgpa                  1000 non-null   float64\n",
      " 1   placement_exam_marks  1000 non-null   float64\n",
      " 2   placed                1000 non-null   int64  \n",
      "dtypes: float64(2), int64(1)\n",
      "memory usage: 23.6 KB\n"
     ]
    }
   ],
   "source": [
    "df.info()"
   ]
  },
  {
   "cell_type": "markdown",
   "id": "ee8e8e83",
   "metadata": {
    "papermill": {
     "duration": 0.028887,
     "end_time": "2022-06-21T19:44:47.174049",
     "exception": false,
     "start_time": "2022-06-21T19:44:47.145162",
     "status": "completed"
    },
    "tags": []
   },
   "source": [
    "No null values.\n",
    "\n",
    "Target Variable: placement_exam_marks (It actually is the package (LPA))"
   ]
  },
  {
   "cell_type": "code",
   "execution_count": 5,
   "id": "6dbae5a2",
   "metadata": {
    "execution": {
     "iopub.execute_input": "2022-06-21T19:44:47.233998Z",
     "iopub.status.busy": "2022-06-21T19:44:47.233012Z",
     "iopub.status.idle": "2022-06-21T19:44:48.369222Z",
     "shell.execute_reply": "2022-06-21T19:44:48.368137Z",
     "shell.execute_reply.started": "2022-06-21T19:40:40.682219Z"
    },
    "papermill": {
     "duration": 1.167631,
     "end_time": "2022-06-21T19:44:48.369381",
     "exception": false,
     "start_time": "2022-06-21T19:44:47.201750",
     "status": "completed"
    },
    "tags": []
   },
   "outputs": [],
   "source": [
    "import matplotlib.pyplot as plt\n",
    "import seaborn as sns"
   ]
  },
  {
   "cell_type": "markdown",
   "id": "764b37b0",
   "metadata": {
    "papermill": {
     "duration": 0.027823,
     "end_time": "2022-06-21T19:44:48.429380",
     "exception": false,
     "start_time": "2022-06-21T19:44:48.401557",
     "status": "completed"
    },
    "tags": []
   },
   "source": [
    "The data points below 5.4 and above 8.5 are considered as outliers.\n",
    "Even if these data points are removed, the data isn't distributed linearly."
   ]
  },
  {
   "cell_type": "markdown",
   "id": "acbc1bca",
   "metadata": {
    "papermill": {
     "duration": 0.029037,
     "end_time": "2022-06-21T19:44:48.488895",
     "exception": false,
     "start_time": "2022-06-21T19:44:48.459858",
     "status": "completed"
    },
    "tags": []
   },
   "source": [
    "Median of the Data is ~28LPA, There are also people who were offered more than 80 LPA."
   ]
  },
  {
   "cell_type": "code",
   "execution_count": 6,
   "id": "71a5c627",
   "metadata": {
    "execution": {
     "iopub.execute_input": "2022-06-21T19:44:48.552650Z",
     "iopub.status.busy": "2022-06-21T19:44:48.551593Z",
     "iopub.status.idle": "2022-06-21T19:44:48.564333Z",
     "shell.execute_reply": "2022-06-21T19:44:48.563790Z",
     "shell.execute_reply.started": "2022-03-24T11:37:07.876763Z"
    },
    "papermill": {
     "duration": 0.047674,
     "end_time": "2022-06-21T19:44:48.564483",
     "exception": false,
     "start_time": "2022-06-21T19:44:48.516809",
     "status": "completed"
    },
    "tags": []
   },
   "outputs": [
    {
     "data": {
      "text/html": [
       "<div>\n",
       "<style scoped>\n",
       "    .dataframe tbody tr th:only-of-type {\n",
       "        vertical-align: middle;\n",
       "    }\n",
       "\n",
       "    .dataframe tbody tr th {\n",
       "        vertical-align: top;\n",
       "    }\n",
       "\n",
       "    .dataframe thead th {\n",
       "        text-align: right;\n",
       "    }\n",
       "</style>\n",
       "<table border=\"1\" class=\"dataframe\">\n",
       "  <thead>\n",
       "    <tr style=\"text-align: right;\">\n",
       "      <th></th>\n",
       "      <th>cgpa</th>\n",
       "      <th>placement_exam_marks</th>\n",
       "      <th>placed</th>\n",
       "    </tr>\n",
       "  </thead>\n",
       "  <tbody>\n",
       "    <tr>\n",
       "      <th>cgpa</th>\n",
       "      <td>1.000000</td>\n",
       "      <td>-0.027371</td>\n",
       "      <td>0.027212</td>\n",
       "    </tr>\n",
       "    <tr>\n",
       "      <th>placement_exam_marks</th>\n",
       "      <td>-0.027371</td>\n",
       "      <td>1.000000</td>\n",
       "      <td>-0.025530</td>\n",
       "    </tr>\n",
       "    <tr>\n",
       "      <th>placed</th>\n",
       "      <td>0.027212</td>\n",
       "      <td>-0.025530</td>\n",
       "      <td>1.000000</td>\n",
       "    </tr>\n",
       "  </tbody>\n",
       "</table>\n",
       "</div>"
      ],
      "text/plain": [
       "                          cgpa  placement_exam_marks    placed\n",
       "cgpa                  1.000000             -0.027371  0.027212\n",
       "placement_exam_marks -0.027371              1.000000 -0.025530\n",
       "placed                0.027212             -0.025530  1.000000"
      ]
     },
     "execution_count": 6,
     "metadata": {},
     "output_type": "execute_result"
    }
   ],
   "source": [
    "df.corr()"
   ]
  },
  {
   "cell_type": "markdown",
   "id": "cee81c2d",
   "metadata": {
    "papermill": {
     "duration": 0.027969,
     "end_time": "2022-06-21T19:44:48.622111",
     "exception": false,
     "start_time": "2022-06-21T19:44:48.594142",
     "status": "completed"
    },
    "tags": []
   },
   "source": [
    "The CGPA and Placement marks are negatively weakly correlated."
   ]
  },
  {
   "cell_type": "markdown",
   "id": "356444d6",
   "metadata": {
    "papermill": {
     "duration": 0.027871,
     "end_time": "2022-06-21T19:44:48.679057",
     "exception": false,
     "start_time": "2022-06-21T19:44:48.651186",
     "status": "completed"
    },
    "tags": []
   },
   "source": [
    "The data points are scattered almost randomly."
   ]
  },
  {
   "cell_type": "markdown",
   "id": "a74bb5a3",
   "metadata": {
    "papermill": {
     "duration": 0.027921,
     "end_time": "2022-06-21T19:44:48.735281",
     "exception": false,
     "start_time": "2022-06-21T19:44:48.707360",
     "status": "completed"
    },
    "tags": []
   },
   "source": [
    "It is a regression problem as our target variable is placement_exam_marks (numeric variable)."
   ]
  },
  {
   "cell_type": "code",
   "execution_count": 7,
   "id": "36602a3b",
   "metadata": {
    "execution": {
     "iopub.execute_input": "2022-06-21T19:44:48.795108Z",
     "iopub.status.busy": "2022-06-21T19:44:48.794411Z",
     "iopub.status.idle": "2022-06-21T19:44:48.800437Z",
     "shell.execute_reply": "2022-06-21T19:44:48.800966Z",
     "shell.execute_reply.started": "2022-06-21T19:42:14.420058Z"
    },
    "papermill": {
     "duration": 0.037569,
     "end_time": "2022-06-21T19:44:48.801141",
     "exception": false,
     "start_time": "2022-06-21T19:44:48.763572",
     "status": "completed"
    },
    "tags": []
   },
   "outputs": [],
   "source": [
    "X = df[['cgpa']]  #, 'placed'"
   ]
  },
  {
   "cell_type": "code",
   "execution_count": 8,
   "id": "64dfe740",
   "metadata": {
    "execution": {
     "iopub.execute_input": "2022-06-21T19:44:48.865297Z",
     "iopub.status.busy": "2022-06-21T19:44:48.864442Z",
     "iopub.status.idle": "2022-06-21T19:44:48.867436Z",
     "shell.execute_reply": "2022-06-21T19:44:48.866603Z",
     "shell.execute_reply.started": "2022-06-21T19:42:21.252373Z"
    },
    "papermill": {
     "duration": 0.038028,
     "end_time": "2022-06-21T19:44:48.867621",
     "exception": false,
     "start_time": "2022-06-21T19:44:48.829593",
     "status": "completed"
    },
    "tags": []
   },
   "outputs": [],
   "source": [
    "y = df[['placement_exam_marks']]"
   ]
  },
  {
   "cell_type": "code",
   "execution_count": 9,
   "id": "fe943aa1",
   "metadata": {
    "execution": {
     "iopub.execute_input": "2022-06-21T19:44:48.932257Z",
     "iopub.status.busy": "2022-06-21T19:44:48.931542Z",
     "iopub.status.idle": "2022-06-21T19:44:49.147414Z",
     "shell.execute_reply": "2022-06-21T19:44:49.146803Z",
     "shell.execute_reply.started": "2022-06-21T19:42:23.118990Z"
    },
    "papermill": {
     "duration": 0.251008,
     "end_time": "2022-06-21T19:44:49.147576",
     "exception": false,
     "start_time": "2022-06-21T19:44:48.896568",
     "status": "completed"
    },
    "tags": []
   },
   "outputs": [],
   "source": [
    "from sklearn.model_selection import train_test_split"
   ]
  },
  {
   "cell_type": "code",
   "execution_count": 10,
   "id": "d44e4c30",
   "metadata": {
    "execution": {
     "iopub.execute_input": "2022-06-21T19:44:49.210093Z",
     "iopub.status.busy": "2022-06-21T19:44:49.209435Z",
     "iopub.status.idle": "2022-06-21T19:44:49.213245Z",
     "shell.execute_reply": "2022-06-21T19:44:49.213743Z",
     "shell.execute_reply.started": "2022-06-21T19:42:26.697293Z"
    },
    "papermill": {
     "duration": 0.037658,
     "end_time": "2022-06-21T19:44:49.213922",
     "exception": false,
     "start_time": "2022-06-21T19:44:49.176264",
     "status": "completed"
    },
    "tags": []
   },
   "outputs": [],
   "source": [
    "X_train,X_test, y_train, y_test = train_test_split(X,y,test_size=0.20, random_state=42)"
   ]
  },
  {
   "cell_type": "code",
   "execution_count": 11,
   "id": "6a2296ba",
   "metadata": {
    "execution": {
     "iopub.execute_input": "2022-06-21T19:44:49.275311Z",
     "iopub.status.busy": "2022-06-21T19:44:49.274670Z",
     "iopub.status.idle": "2022-06-21T19:44:49.362351Z",
     "shell.execute_reply": "2022-06-21T19:44:49.361758Z",
     "shell.execute_reply.started": "2022-06-21T19:42:28.037012Z"
    },
    "papermill": {
     "duration": 0.119346,
     "end_time": "2022-06-21T19:44:49.362505",
     "exception": false,
     "start_time": "2022-06-21T19:44:49.243159",
     "status": "completed"
    },
    "tags": []
   },
   "outputs": [],
   "source": [
    "from sklearn.linear_model import LinearRegression"
   ]
  },
  {
   "cell_type": "code",
   "execution_count": 12,
   "id": "9314a82e",
   "metadata": {
    "execution": {
     "iopub.execute_input": "2022-06-21T19:44:49.423743Z",
     "iopub.status.busy": "2022-06-21T19:44:49.423129Z",
     "iopub.status.idle": "2022-06-21T19:44:49.425744Z",
     "shell.execute_reply": "2022-06-21T19:44:49.425241Z",
     "shell.execute_reply.started": "2022-06-21T19:42:29.556892Z"
    },
    "papermill": {
     "duration": 0.034795,
     "end_time": "2022-06-21T19:44:49.425876",
     "exception": false,
     "start_time": "2022-06-21T19:44:49.391081",
     "status": "completed"
    },
    "tags": []
   },
   "outputs": [],
   "source": [
    "model= LinearRegression()"
   ]
  },
  {
   "cell_type": "code",
   "execution_count": 13,
   "id": "58ccc038",
   "metadata": {
    "execution": {
     "iopub.execute_input": "2022-06-21T19:44:49.485511Z",
     "iopub.status.busy": "2022-06-21T19:44:49.484881Z",
     "iopub.status.idle": "2022-06-21T19:44:49.509084Z",
     "shell.execute_reply": "2022-06-21T19:44:49.509649Z",
     "shell.execute_reply.started": "2022-06-21T19:42:32.757332Z"
    },
    "papermill": {
     "duration": 0.055505,
     "end_time": "2022-06-21T19:44:49.509813",
     "exception": false,
     "start_time": "2022-06-21T19:44:49.454308",
     "status": "completed"
    },
    "tags": []
   },
   "outputs": [
    {
     "data": {
      "text/plain": [
       "LinearRegression()"
      ]
     },
     "execution_count": 13,
     "metadata": {},
     "output_type": "execute_result"
    }
   ],
   "source": [
    "model.fit(X_train, y_train)"
   ]
  },
  {
   "cell_type": "code",
   "execution_count": 14,
   "id": "8d2ec029",
   "metadata": {
    "execution": {
     "iopub.execute_input": "2022-06-21T19:44:49.573882Z",
     "iopub.status.busy": "2022-06-21T19:44:49.573184Z",
     "iopub.status.idle": "2022-06-21T19:44:49.575141Z",
     "shell.execute_reply": "2022-06-21T19:44:49.575708Z",
     "shell.execute_reply.started": "2022-06-21T19:42:46.763075Z"
    },
    "papermill": {
     "duration": 0.037436,
     "end_time": "2022-06-21T19:44:49.575885",
     "exception": false,
     "start_time": "2022-06-21T19:44:49.538449",
     "status": "completed"
    },
    "tags": []
   },
   "outputs": [],
   "source": [
    "y_pred = model.predict(X_test)"
   ]
  },
  {
   "cell_type": "code",
   "execution_count": 15,
   "id": "d1792de0",
   "metadata": {
    "execution": {
     "iopub.execute_input": "2022-06-21T19:44:49.636944Z",
     "iopub.status.busy": "2022-06-21T19:44:49.636253Z",
     "iopub.status.idle": "2022-06-21T19:44:49.639568Z",
     "shell.execute_reply": "2022-06-21T19:44:49.640097Z",
     "shell.execute_reply.started": "2022-06-21T19:42:53.057555Z"
    },
    "papermill": {
     "duration": 0.035473,
     "end_time": "2022-06-21T19:44:49.640272",
     "exception": false,
     "start_time": "2022-06-21T19:44:49.604799",
     "status": "completed"
    },
    "tags": []
   },
   "outputs": [],
   "source": [
    "from sklearn.metrics import mean_squared_error"
   ]
  },
  {
   "cell_type": "code",
   "execution_count": 16,
   "id": "71ee4817",
   "metadata": {
    "execution": {
     "iopub.execute_input": "2022-06-21T19:44:49.701939Z",
     "iopub.status.busy": "2022-06-21T19:44:49.701231Z",
     "iopub.status.idle": "2022-06-21T19:44:49.707954Z",
     "shell.execute_reply": "2022-06-21T19:44:49.708531Z",
     "shell.execute_reply.started": "2022-06-21T19:42:54.496941Z"
    },
    "papermill": {
     "duration": 0.039167,
     "end_time": "2022-06-21T19:44:49.708730",
     "exception": false,
     "start_time": "2022-06-21T19:44:49.669563",
     "status": "completed"
    },
    "tags": []
   },
   "outputs": [
    {
     "data": {
      "text/plain": [
       "335.0322585022387"
      ]
     },
     "execution_count": 16,
     "metadata": {},
     "output_type": "execute_result"
    }
   ],
   "source": [
    "mean_squared_error(y_pred, y_test)"
   ]
  },
  {
   "cell_type": "code",
   "execution_count": 17,
   "id": "21bcd1a5",
   "metadata": {
    "execution": {
     "iopub.execute_input": "2022-06-21T19:44:49.772034Z",
     "iopub.status.busy": "2022-06-21T19:44:49.771336Z",
     "iopub.status.idle": "2022-06-21T19:44:49.867266Z",
     "shell.execute_reply": "2022-06-21T19:44:49.866608Z",
     "shell.execute_reply.started": "2022-06-21T19:42:57.057342Z"
    },
    "papermill": {
     "duration": 0.129409,
     "end_time": "2022-06-21T19:44:49.867412",
     "exception": false,
     "start_time": "2022-06-21T19:44:49.738003",
     "status": "completed"
    },
    "tags": []
   },
   "outputs": [],
   "source": [
    "from sklearn.tree import DecisionTreeRegressor"
   ]
  },
  {
   "cell_type": "code",
   "execution_count": 18,
   "id": "33284ce8",
   "metadata": {
    "execution": {
     "iopub.execute_input": "2022-06-21T19:44:49.930844Z",
     "iopub.status.busy": "2022-06-21T19:44:49.930204Z",
     "iopub.status.idle": "2022-06-21T19:44:49.932845Z",
     "shell.execute_reply": "2022-06-21T19:44:49.933404Z",
     "shell.execute_reply.started": "2022-03-24T11:51:40.500964Z"
    },
    "papermill": {
     "duration": 0.036755,
     "end_time": "2022-06-21T19:44:49.933575",
     "exception": false,
     "start_time": "2022-06-21T19:44:49.896820",
     "status": "completed"
    },
    "tags": []
   },
   "outputs": [],
   "source": [
    "model_1 = DecisionTreeRegressor(max_leaf_nodes=5)"
   ]
  },
  {
   "cell_type": "code",
   "execution_count": 19,
   "id": "a413702f",
   "metadata": {
    "execution": {
     "iopub.execute_input": "2022-06-21T19:44:49.997992Z",
     "iopub.status.busy": "2022-06-21T19:44:49.996791Z",
     "iopub.status.idle": "2022-06-21T19:44:50.006258Z",
     "shell.execute_reply": "2022-06-21T19:44:50.006700Z",
     "shell.execute_reply.started": "2022-03-24T11:51:40.705013Z"
    },
    "papermill": {
     "duration": 0.044015,
     "end_time": "2022-06-21T19:44:50.006871",
     "exception": false,
     "start_time": "2022-06-21T19:44:49.962856",
     "status": "completed"
    },
    "tags": []
   },
   "outputs": [
    {
     "data": {
      "text/plain": [
       "DecisionTreeRegressor(max_leaf_nodes=5)"
      ]
     },
     "execution_count": 19,
     "metadata": {},
     "output_type": "execute_result"
    }
   ],
   "source": [
    "model_1.fit(X_train, y_train)"
   ]
  },
  {
   "cell_type": "code",
   "execution_count": 20,
   "id": "0625f657",
   "metadata": {
    "execution": {
     "iopub.execute_input": "2022-06-21T19:44:50.073084Z",
     "iopub.status.busy": "2022-06-21T19:44:50.072345Z",
     "iopub.status.idle": "2022-06-21T19:44:50.074297Z",
     "shell.execute_reply": "2022-06-21T19:44:50.074771Z",
     "shell.execute_reply.started": "2022-03-24T11:51:40.924426Z"
    },
    "papermill": {
     "duration": 0.038555,
     "end_time": "2022-06-21T19:44:50.074951",
     "exception": false,
     "start_time": "2022-06-21T19:44:50.036396",
     "status": "completed"
    },
    "tags": []
   },
   "outputs": [],
   "source": [
    "y_pred_1 = model_1.predict(X_test)"
   ]
  },
  {
   "cell_type": "code",
   "execution_count": 21,
   "id": "52a068e4",
   "metadata": {
    "execution": {
     "iopub.execute_input": "2022-06-21T19:44:50.138931Z",
     "iopub.status.busy": "2022-06-21T19:44:50.138269Z",
     "iopub.status.idle": "2022-06-21T19:44:50.145235Z",
     "shell.execute_reply": "2022-06-21T19:44:50.145702Z",
     "shell.execute_reply.started": "2022-03-24T11:51:41.132343Z"
    },
    "papermill": {
     "duration": 0.041232,
     "end_time": "2022-06-21T19:44:50.145872",
     "exception": false,
     "start_time": "2022-06-21T19:44:50.104640",
     "status": "completed"
    },
    "tags": []
   },
   "outputs": [
    {
     "data": {
      "text/plain": [
       "326.24928421204817"
      ]
     },
     "execution_count": 21,
     "metadata": {},
     "output_type": "execute_result"
    }
   ],
   "source": [
    "mean_squared_error(y_pred_1, y_test)"
   ]
  },
  {
   "cell_type": "code",
   "execution_count": null,
   "id": "61903bed",
   "metadata": {
    "papermill": {
     "duration": 0.029994,
     "end_time": "2022-06-21T19:44:50.207229",
     "exception": false,
     "start_time": "2022-06-21T19:44:50.177235",
     "status": "completed"
    },
    "tags": []
   },
   "outputs": [],
   "source": []
  },
  {
   "cell_type": "code",
   "execution_count": null,
   "id": "3eb3b0c7",
   "metadata": {
    "papermill": {
     "duration": 0.029739,
     "end_time": "2022-06-21T19:44:50.267321",
     "exception": false,
     "start_time": "2022-06-21T19:44:50.237582",
     "status": "completed"
    },
    "tags": []
   },
   "outputs": [],
   "source": []
  }
 ],
 "metadata": {
  "kernelspec": {
   "display_name": "Python 3",
   "language": "python",
   "name": "python3"
  },
  "language_info": {
   "codemirror_mode": {
    "name": "ipython",
    "version": 3
   },
   "file_extension": ".py",
   "mimetype": "text/x-python",
   "name": "python",
   "nbconvert_exporter": "python",
   "pygments_lexer": "ipython3",
   "version": "3.7.12"
  },
  "papermill": {
   "default_parameters": {},
   "duration": 14.808776,
   "end_time": "2022-06-21T19:44:51.008469",
   "environment_variables": {},
   "exception": null,
   "input_path": "__notebook__.ipynb",
   "output_path": "__notebook__.ipynb",
   "parameters": {},
   "start_time": "2022-06-21T19:44:36.199693",
   "version": "2.3.3"
  }
 },
 "nbformat": 4,
 "nbformat_minor": 5
}
